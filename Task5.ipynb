{
 "cells": [
  {
   "cell_type": "code",
   "execution_count": 1,
   "id": "856adaf7-9529-4769-9cc2-20a1935e3652",
   "metadata": {},
   "outputs": [],
   "source": [
    "import cv2\n",
    "import numpy as np\n",
    "import matplotlib.pyplot as plt"
   ]
  },
  {
   "cell_type": "code",
   "execution_count": 2,
   "id": "c21ee62e-d6b3-4cf4-a253-079b760ab5d7",
   "metadata": {
    "scrolled": true
   },
   "outputs": [],
   "source": [
    "img = cv2.VideoCapture(\"C:\\\\Users\\\\aedpu\\\\3 Rd year\\\\istockphoto-473394421-640_adpp_is.mp4\")"
   ]
  },
  {
   "cell_type": "code",
   "execution_count": 3,
   "id": "4eb1b163-da79-4801-951c-d1b77287f60c",
   "metadata": {},
   "outputs": [
    {
     "name": "stdout",
     "output_type": "stream",
     "text": [
      "True\n"
     ]
    }
   ],
   "source": [
    "print(img.isOpened())"
   ]
  },
  {
   "cell_type": "code",
   "execution_count": 4,
   "id": "76d2b0f0-28a6-4701-818e-d5e454937727",
   "metadata": {},
   "outputs": [],
   "source": [
    "kernel = np.ones((5,5),np.uint8)"
   ]
  },
  {
   "cell_type": "code",
   "execution_count": 5,
   "id": "40baf8f2-3666-4fe2-ade3-656f2cce9ce9",
   "metadata": {},
   "outputs": [
    {
     "data": {
      "text/plain": [
       "array([[1, 1, 1, 1, 1],\n",
       "       [1, 1, 1, 1, 1],\n",
       "       [1, 1, 1, 1, 1],\n",
       "       [1, 1, 1, 1, 1],\n",
       "       [1, 1, 1, 1, 1]], dtype=uint8)"
      ]
     },
     "execution_count": 5,
     "metadata": {},
     "output_type": "execute_result"
    }
   ],
   "source": [
    "kernel"
   ]
  },
  {
   "cell_type": "code",
   "execution_count": 6,
   "id": "d8e8907b-ac3b-4706-863c-15132576366d",
   "metadata": {},
   "outputs": [],
   "source": [
    "while(img.isOpened()):\n",
    "    ret, frame = img.read()\n",
    "    GREY=cv2.cvtColor(frame,cv2.COLOR_BGR2GRAY)\n",
    "    ret,thresh1 = cv2.threshold(GREY, 200,255,cv2.THRESH_BINARY)\n",
    "    erosion = cv2.erode(thresh1 , kernel , iterations = 1)\n",
    "    dilation = cv2.dilate(thresh1 , kernel , iterations = 1)\n",
    "    open = cv2.morphologyEx(thresh1 , cv2.MORPH_OPEN , kernel)\n",
    "    close = cv2.morphologyEx(thresh1 , cv2.MORPH_CLOSE , kernel)\n",
    "    gradient =  cv2.morphologyEx(thresh1 , cv2.MORPH_GRADIENT , kernel)\n",
    "    tophat =  cv2.morphologyEx(thresh1, cv2.MORPH_TOPHAT , kernel)\n",
    "    blackhat =  cv2.morphologyEx(thresh1 , cv2.MORPH_BLACKHAT, kernel)\n",
    "    cv2.imshow('video',frame)\n",
    "    cv2.imshow('Grey' ,GREY)\n",
    "    cv2.imshow(' erosion', erosion)\n",
    "    cv2.imshow('dilation' ,dilation)\n",
    "    cv2.imshow('open',open)\n",
    "    cv2.imshow('close' ,close)\n",
    "    cv2.imshow(' gradient' , gradient)\n",
    "    cv2.imshow('tophat',tophat)\n",
    "    cv2.imshow('blackhat' ,blackhat)\n",
    "    \n",
    "    \n",
    "    \n",
    "    if cv2.waitKey(100) & 0xFF == ord('q'):\n",
    "        break\n",
    "                \n",
    "img.release() \n",
    "cv2.destroyAllWindows()"
   ]
  },
  {
   "cell_type": "code",
   "execution_count": null,
   "id": "af9dc92b-7516-45da-ad6c-b90b67562a09",
   "metadata": {},
   "outputs": [],
   "source": []
  },
  {
   "cell_type": "code",
   "execution_count": null,
   "id": "3e241def-4c4f-4901-90f4-421eb698aa5d",
   "metadata": {},
   "outputs": [],
   "source": []
  }
 ],
 "metadata": {
  "kernelspec": {
   "display_name": "Python 3 (ipykernel)",
   "language": "python",
   "name": "python3"
  },
  "language_info": {
   "codemirror_mode": {
    "name": "ipython",
    "version": 3
   },
   "file_extension": ".py",
   "mimetype": "text/x-python",
   "name": "python",
   "nbconvert_exporter": "python",
   "pygments_lexer": "ipython3",
   "version": "3.9.19"
  }
 },
 "nbformat": 4,
 "nbformat_minor": 5
}
