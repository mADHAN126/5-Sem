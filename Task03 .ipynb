{
 "cells": [
  {
   "cell_type": "code",
   "execution_count": 1,
   "id": "d988583f-f79c-429f-a8b7-2371c9b77f2d",
   "metadata": {},
   "outputs": [],
   "source": [
    "import cv2\n",
    "import numpy as np"
   ]
  },
  {
   "cell_type": "code",
   "execution_count": 2,
   "id": "e952dca5-f886-4e58-8537-3b4ee6dce7de",
   "metadata": {},
   "outputs": [],
   "source": [
    "img1 = cv2.imread(\"C:\\\\Users\\\\aedpu\\\\3 Rd year\\\\noise.jpg\")"
   ]
  },
  {
   "cell_type": "code",
   "execution_count": 3,
   "id": "f23beee8-8a2d-4162-a3af-1952cb6bff7f",
   "metadata": {},
   "outputs": [
    {
     "data": {
      "text/plain": [
       "(800, 1500, 3)"
      ]
     },
     "execution_count": 3,
     "metadata": {},
     "output_type": "execute_result"
    }
   ],
   "source": [
    "img1.shape"
   ]
  },
  {
   "cell_type": "code",
   "execution_count": 4,
   "id": "e8a45cea-f2bb-4ffe-a797-40691b5a4695",
   "metadata": {},
   "outputs": [],
   "source": [
    "colour = cv2.bilateralFilter(img1,15,450,450)"
   ]
  },
  {
   "cell_type": "code",
   "execution_count": 5,
   "id": "aa73a08c-3fa5-4841-83de-d735a78cf807",
   "metadata": {},
   "outputs": [],
   "source": [
    "gray = cv2.cvtColor(img1,cv2.COLOR_BGR2GRAY)\n",
    "gray = cv2.medianBlur(gray,5)"
   ]
  },
  {
   "cell_type": "code",
   "execution_count": 6,
   "id": "659725b9-36fe-4d5b-985d-176e08b11a82",
   "metadata": {},
   "outputs": [],
   "source": [
    "edges = cv2.adaptiveThreshold(gray,255,cv2.ADAPTIVE_THRESH_MEAN_C,cv2.THRESH_BINARY,9,9)"
   ]
  },
  {
   "cell_type": "code",
   "execution_count": 7,
   "id": "333767d7-dfef-45af-b3c6-f01acd4f4758",
   "metadata": {},
   "outputs": [],
   "source": [
    "cartoon = cv2.bitwise_and(colour,colour,mask=edges)"
   ]
  },
  {
   "cell_type": "code",
   "execution_count": 8,
   "id": "7fc2ddcf-fdd5-4c8e-8d8a-608397680076",
   "metadata": {},
   "outputs": [],
   "source": [
    "cv2.imshow(\"Cartoon\",cartoon)\n",
    "cv2.imshow(\"Orginal\",img1)\n",
    "cv2.waitKey(0)\n",
    "cv2.destroyAllWindows()"
   ]
  },
  {
   "cell_type": "code",
   "execution_count": null,
   "id": "4de9cb9d-7f87-4675-b325-f4b3be84c594",
   "metadata": {},
   "outputs": [],
   "source": []
  },
  {
   "cell_type": "code",
   "execution_count": null,
   "id": "90b120b6-8e75-4a23-879b-4708d02d3db2",
   "metadata": {},
   "outputs": [],
   "source": []
  }
 ],
 "metadata": {
  "kernelspec": {
   "display_name": "Python 3 (ipykernel)",
   "language": "python",
   "name": "python3"
  },
  "language_info": {
   "codemirror_mode": {
    "name": "ipython",
    "version": 3
   },
   "file_extension": ".py",
   "mimetype": "text/x-python",
   "name": "python",
   "nbconvert_exporter": "python",
   "pygments_lexer": "ipython3",
   "version": "3.9.19"
  }
 },
 "nbformat": 4,
 "nbformat_minor": 5
}
